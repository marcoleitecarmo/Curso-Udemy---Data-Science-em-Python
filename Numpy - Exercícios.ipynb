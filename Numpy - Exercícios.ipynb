{
 "cells": [
  {
   "cell_type": "markdown",
   "id": "3ee1886a",
   "metadata": {},
   "source": [
    "# Numpy Introdução"
   ]
  },
  {
   "cell_type": "markdown",
   "id": "9a902216",
   "metadata": {},
   "source": [
    "- Exercício 1"
   ]
  },
  {
   "cell_type": "code",
   "execution_count": 1,
   "id": "7c15dcba",
   "metadata": {},
   "outputs": [],
   "source": [
    "import numpy as np"
   ]
  },
  {
   "cell_type": "code",
   "execution_count": 3,
   "id": "f3fcc49a",
   "metadata": {},
   "outputs": [],
   "source": [
    "array = np.array([1, 2, 3, 4, 5, 6, 7, 8, 9 , 10])"
   ]
  },
  {
   "cell_type": "code",
   "execution_count": 4,
   "id": "9e429b23",
   "metadata": {},
   "outputs": [
    {
     "name": "stdout",
     "output_type": "stream",
     "text": [
      "[ 1  2  3  4  5  6  7  8  9 10]\n"
     ]
    }
   ],
   "source": [
    "print(array)"
   ]
  },
  {
   "cell_type": "code",
   "execution_count": 13,
   "id": "fbcb358d",
   "metadata": {},
   "outputs": [
    {
     "name": "stdout",
     "output_type": "stream",
     "text": [
      "[0. 0.]\n"
     ]
    }
   ],
   "source": [
    "a1 = np.zeros(2)\n",
    "print(a1)\n",
    "\n"
   ]
  },
  {
   "cell_type": "code",
   "execution_count": 14,
   "id": "2003e02f",
   "metadata": {},
   "outputs": [
    {
     "name": "stdout",
     "output_type": "stream",
     "text": [
      "[1. 1.]\n"
     ]
    }
   ],
   "source": [
    "a2 = np.ones(2)\n",
    "print(a2)"
   ]
  },
  {
   "cell_type": "code",
   "execution_count": 22,
   "id": "e94f53f5",
   "metadata": {},
   "outputs": [
    {
     "name": "stdout",
     "output_type": "stream",
     "text": [
      "[9.12083041e-312 4.79243676e-322]\n"
     ]
    }
   ],
   "source": [
    "a3 = np.empty(2)\n",
    "print(a3)"
   ]
  },
  {
   "cell_type": "code",
   "execution_count": 11,
   "id": "ab9012fe",
   "metadata": {},
   "outputs": [
    {
     "name": "stdout",
     "output_type": "stream",
     "text": [
      "[0 1 2 3]\n"
     ]
    }
   ],
   "source": [
    "b = np.arange(4)\n",
    "print(b)\n"
   ]
  },
  {
   "cell_type": "code",
   "execution_count": 25,
   "id": "0138770b",
   "metadata": {},
   "outputs": [
    {
     "name": "stdout",
     "output_type": "stream",
     "text": [
      "[ 0.   2.5  5.   7.5 10. ]\n"
     ]
    }
   ],
   "source": [
    "c = np.linspace(0, 10, num=5)\n",
    "print(c)"
   ]
  },
  {
   "cell_type": "code",
   "execution_count": 3,
   "id": "9132781d",
   "metadata": {},
   "outputs": [
    {
     "data": {
      "text/plain": [
       "(10,)"
      ]
     },
     "execution_count": 3,
     "metadata": {},
     "output_type": "execute_result"
    }
   ],
   "source": [
    "array.shape"
   ]
  },
  {
   "cell_type": "code",
   "execution_count": 4,
   "id": "0d056463",
   "metadata": {},
   "outputs": [
    {
     "name": "stdout",
     "output_type": "stream",
     "text": [
      "Shape:  (10,)\n"
     ]
    }
   ],
   "source": [
    "print('Shape: ', array.shape)"
   ]
  },
  {
   "cell_type": "code",
   "execution_count": 5,
   "id": "93a0737e",
   "metadata": {},
   "outputs": [
    {
     "data": {
      "text/plain": [
       "10"
      ]
     },
     "execution_count": 5,
     "metadata": {},
     "output_type": "execute_result"
    }
   ],
   "source": [
    "array.size"
   ]
  },
  {
   "cell_type": "code",
   "execution_count": 6,
   "id": "a9dc885c",
   "metadata": {},
   "outputs": [
    {
     "data": {
      "text/plain": [
       "1"
      ]
     },
     "execution_count": 6,
     "metadata": {},
     "output_type": "execute_result"
    }
   ],
   "source": [
    "array.ndim"
   ]
  },
  {
   "cell_type": "code",
   "execution_count": 7,
   "id": "52845852",
   "metadata": {},
   "outputs": [
    {
     "data": {
      "text/plain": [
       "40"
      ]
     },
     "execution_count": 7,
     "metadata": {},
     "output_type": "execute_result"
    }
   ],
   "source": [
    "array.nbytes"
   ]
  },
  {
   "cell_type": "code",
   "execution_count": 8,
   "id": "df0c3004",
   "metadata": {},
   "outputs": [
    {
     "data": {
      "text/plain": [
       "dtype('int32')"
      ]
     },
     "execution_count": 8,
     "metadata": {},
     "output_type": "execute_result"
    }
   ],
   "source": [
    "array.dtype"
   ]
  },
  {
   "cell_type": "markdown",
   "id": "7a9aa02c",
   "metadata": {},
   "source": [
    "- Exercício 2"
   ]
  },
  {
   "cell_type": "code",
   "execution_count": 9,
   "id": "4b414e97",
   "metadata": {},
   "outputs": [],
   "source": [
    "import numpy as np"
   ]
  },
  {
   "cell_type": "code",
   "execution_count": 10,
   "id": "c9a8e3f5",
   "metadata": {},
   "outputs": [],
   "source": [
    "def inspecionar_array(array):\n",
    "    if isinstance(array, np.ndarray):\n",
    "        print('Shape: ', array.shape)\n",
    "        print('Size: ', array.size)\n",
    "        print('Ndim: ', array.ndim)\n",
    "        print('Nbytes: ', array.nbytes)\n",
    "        print('Dtype: ', array.dtype)\n",
    "        print('Type: ', type(array))\n",
    "        return array\n",
    "    else:\n",
    "        return 'Objeto inserido não é um array Numpy'"
   ]
  },
  {
   "cell_type": "code",
   "execution_count": 11,
   "id": "67b61cb7",
   "metadata": {},
   "outputs": [],
   "source": [
    "array =np.array([1, 2, 3, 4])"
   ]
  },
  {
   "cell_type": "code",
   "execution_count": 12,
   "id": "16760be1",
   "metadata": {},
   "outputs": [],
   "source": [
    "list_ =[1, 2, 3, 4]"
   ]
  },
  {
   "cell_type": "code",
   "execution_count": 13,
   "id": "502edd43",
   "metadata": {},
   "outputs": [
    {
     "name": "stdout",
     "output_type": "stream",
     "text": [
      "Shape:  (4,)\n",
      "Size:  4\n",
      "Ndim:  1\n",
      "Nbytes:  16\n",
      "Dtype:  int32\n",
      "Type:  <class 'numpy.ndarray'>\n"
     ]
    },
    {
     "data": {
      "text/plain": [
       "array([1, 2, 3, 4])"
      ]
     },
     "execution_count": 13,
     "metadata": {},
     "output_type": "execute_result"
    }
   ],
   "source": [
    "inspecionar_array(array)"
   ]
  },
  {
   "cell_type": "code",
   "execution_count": 14,
   "id": "513997d0",
   "metadata": {},
   "outputs": [
    {
     "data": {
      "text/plain": [
       "'Objeto inserido não é um array Numpy'"
      ]
     },
     "execution_count": 14,
     "metadata": {},
     "output_type": "execute_result"
    }
   ],
   "source": [
    "inspecionar_array(list_)"
   ]
  },
  {
   "cell_type": "markdown",
   "id": "bdc610a6",
   "metadata": {},
   "source": [
    "- Exercício 3"
   ]
  },
  {
   "cell_type": "code",
   "execution_count": 15,
   "id": "3bc92109",
   "metadata": {},
   "outputs": [],
   "source": [
    "# a)\n",
    "array1 = np.array([-1, 4, 7, 9])"
   ]
  },
  {
   "cell_type": "code",
   "execution_count": 16,
   "id": "82c718ab",
   "metadata": {},
   "outputs": [
    {
     "data": {
      "text/plain": [
       "array([-1,  4,  7,  9])"
      ]
     },
     "execution_count": 16,
     "metadata": {},
     "output_type": "execute_result"
    }
   ],
   "source": [
    "array1"
   ]
  },
  {
   "cell_type": "code",
   "execution_count": 17,
   "id": "a9b7771e",
   "metadata": {},
   "outputs": [],
   "source": [
    "# b)\n",
    "array2 = np.array(range(1, 11))"
   ]
  },
  {
   "cell_type": "code",
   "execution_count": 18,
   "id": "7204f34f",
   "metadata": {},
   "outputs": [
    {
     "data": {
      "text/plain": [
       "array([ 1,  2,  3,  4,  5,  6,  7,  8,  9, 10])"
      ]
     },
     "execution_count": 18,
     "metadata": {},
     "output_type": "execute_result"
    }
   ],
   "source": [
    "array2"
   ]
  },
  {
   "cell_type": "code",
   "execution_count": 19,
   "id": "64ddebec",
   "metadata": {},
   "outputs": [],
   "source": [
    "# c)\n",
    "tupla = (10, 11, 12, 13, 14)\n",
    "array3 = np.array(tupla)"
   ]
  },
  {
   "cell_type": "code",
   "execution_count": 20,
   "id": "5d02ccb3",
   "metadata": {},
   "outputs": [
    {
     "data": {
      "text/plain": [
       "array([10, 11, 12, 13, 14])"
      ]
     },
     "execution_count": 20,
     "metadata": {},
     "output_type": "execute_result"
    }
   ],
   "source": [
    "array3"
   ]
  },
  {
   "cell_type": "code",
   "execution_count": 21,
   "id": "1bab8fff",
   "metadata": {},
   "outputs": [],
   "source": [
    "# d)\n",
    "array4 = np.array(range(1990, 2021, 5))"
   ]
  },
  {
   "cell_type": "code",
   "execution_count": 22,
   "id": "3750cd21",
   "metadata": {},
   "outputs": [
    {
     "data": {
      "text/plain": [
       "array([1990, 1995, 2000, 2005, 2010, 2015, 2020])"
      ]
     },
     "execution_count": 22,
     "metadata": {},
     "output_type": "execute_result"
    }
   ],
   "source": [
    "array4"
   ]
  },
  {
   "cell_type": "code",
   "execution_count": 23,
   "id": "0eb0c31f",
   "metadata": {},
   "outputs": [],
   "source": [
    "# e)\n",
    "array5 = np.array(range(2020, 1890, -10))"
   ]
  },
  {
   "cell_type": "code",
   "execution_count": 24,
   "id": "6a6efe90",
   "metadata": {},
   "outputs": [
    {
     "data": {
      "text/plain": [
       "array([2020, 2010, 2000, 1990, 1980, 1970, 1960, 1950, 1940, 1930, 1920,\n",
       "       1910, 1900])"
      ]
     },
     "execution_count": 24,
     "metadata": {},
     "output_type": "execute_result"
    }
   ],
   "source": [
    "array5"
   ]
  },
  {
   "cell_type": "code",
   "execution_count": 25,
   "id": "e676e266",
   "metadata": {},
   "outputs": [],
   "source": [
    "# f)\n",
    "array6 = np.array(100)"
   ]
  },
  {
   "cell_type": "code",
   "execution_count": 26,
   "id": "58721bfc",
   "metadata": {},
   "outputs": [
    {
     "data": {
      "text/plain": [
       "array(100)"
      ]
     },
     "execution_count": 26,
     "metadata": {},
     "output_type": "execute_result"
    }
   ],
   "source": [
    "array6"
   ]
  },
  {
   "cell_type": "markdown",
   "id": "ff3fc686",
   "metadata": {},
   "source": [
    "- Exercício 4"
   ]
  },
  {
   "cell_type": "code",
   "execution_count": 27,
   "id": "209cca1c",
   "metadata": {},
   "outputs": [],
   "source": [
    "# a)\n",
    "A = np.ones(10)"
   ]
  },
  {
   "cell_type": "code",
   "execution_count": 28,
   "id": "6c3144dc",
   "metadata": {},
   "outputs": [
    {
     "data": {
      "text/plain": [
       "array([1., 1., 1., 1., 1., 1., 1., 1., 1., 1.])"
      ]
     },
     "execution_count": 28,
     "metadata": {},
     "output_type": "execute_result"
    }
   ],
   "source": [
    "A"
   ]
  },
  {
   "cell_type": "code",
   "execution_count": 29,
   "id": "899655d9",
   "metadata": {},
   "outputs": [],
   "source": [
    "# b)\n",
    "B = np.ones((4,4))"
   ]
  },
  {
   "cell_type": "code",
   "execution_count": 30,
   "id": "d03433bf",
   "metadata": {},
   "outputs": [
    {
     "data": {
      "text/plain": [
       "array([[1., 1., 1., 1.],\n",
       "       [1., 1., 1., 1.],\n",
       "       [1., 1., 1., 1.],\n",
       "       [1., 1., 1., 1.]])"
      ]
     },
     "execution_count": 30,
     "metadata": {},
     "output_type": "execute_result"
    }
   ],
   "source": [
    "B"
   ]
  },
  {
   "cell_type": "code",
   "execution_count": 31,
   "id": "51ad2571",
   "metadata": {},
   "outputs": [],
   "source": [
    "# c)\n",
    "C = np.ones((3, 2), dtype=float)"
   ]
  },
  {
   "cell_type": "code",
   "execution_count": 32,
   "id": "eec03e0e",
   "metadata": {},
   "outputs": [
    {
     "data": {
      "text/plain": [
       "array([[1., 1.],\n",
       "       [1., 1.],\n",
       "       [1., 1.]])"
      ]
     },
     "execution_count": 32,
     "metadata": {},
     "output_type": "execute_result"
    }
   ],
   "source": [
    "C"
   ]
  },
  {
   "cell_type": "markdown",
   "id": "ae655173",
   "metadata": {},
   "source": [
    "- Exercício 5"
   ]
  },
  {
   "cell_type": "code",
   "execution_count": 33,
   "id": "742495dc",
   "metadata": {},
   "outputs": [],
   "source": [
    "# a) \n",
    "A = np.zeros(10)"
   ]
  },
  {
   "cell_type": "code",
   "execution_count": 34,
   "id": "d66284f8",
   "metadata": {},
   "outputs": [
    {
     "data": {
      "text/plain": [
       "array([0., 0., 0., 0., 0., 0., 0., 0., 0., 0.])"
      ]
     },
     "execution_count": 34,
     "metadata": {},
     "output_type": "execute_result"
    }
   ],
   "source": [
    "A"
   ]
  },
  {
   "cell_type": "code",
   "execution_count": 35,
   "id": "c451f719",
   "metadata": {},
   "outputs": [],
   "source": [
    "# b)\n",
    "B = np.zeros((2,2))"
   ]
  },
  {
   "cell_type": "code",
   "execution_count": 36,
   "id": "07e73d30",
   "metadata": {},
   "outputs": [
    {
     "data": {
      "text/plain": [
       "array([[0., 0.],\n",
       "       [0., 0.]])"
      ]
     },
     "execution_count": 36,
     "metadata": {},
     "output_type": "execute_result"
    }
   ],
   "source": [
    "B"
   ]
  },
  {
   "cell_type": "code",
   "execution_count": 37,
   "id": "18a34c53",
   "metadata": {},
   "outputs": [],
   "source": [
    "# c)\n",
    "C = np.zeros((5, 6))"
   ]
  },
  {
   "cell_type": "code",
   "execution_count": 38,
   "id": "fe1b8f8d",
   "metadata": {},
   "outputs": [
    {
     "data": {
      "text/plain": [
       "array([[0., 0., 0., 0., 0., 0.],\n",
       "       [0., 0., 0., 0., 0., 0.],\n",
       "       [0., 0., 0., 0., 0., 0.],\n",
       "       [0., 0., 0., 0., 0., 0.],\n",
       "       [0., 0., 0., 0., 0., 0.]])"
      ]
     },
     "execution_count": 38,
     "metadata": {},
     "output_type": "execute_result"
    }
   ],
   "source": [
    "C"
   ]
  },
  {
   "cell_type": "markdown",
   "id": "1b898e48",
   "metadata": {},
   "source": [
    "- Exercício 6"
   ]
  },
  {
   "cell_type": "code",
   "execution_count": 39,
   "id": "85612a38",
   "metadata": {},
   "outputs": [],
   "source": [
    "# a)\n",
    "A = np.arange(10, 50, 5). reshape((-1, 1))"
   ]
  },
  {
   "cell_type": "code",
   "execution_count": 40,
   "id": "0f33252f",
   "metadata": {},
   "outputs": [
    {
     "data": {
      "text/plain": [
       "array([[10],\n",
       "       [15],\n",
       "       [20],\n",
       "       [25],\n",
       "       [30],\n",
       "       [35],\n",
       "       [40],\n",
       "       [45]])"
      ]
     },
     "execution_count": 40,
     "metadata": {},
     "output_type": "execute_result"
    }
   ],
   "source": [
    "A"
   ]
  },
  {
   "cell_type": "code",
   "execution_count": 41,
   "id": "c19fd969",
   "metadata": {},
   "outputs": [],
   "source": [
    "# b)\n",
    "B = np.array(range(-50, 0, 5))"
   ]
  },
  {
   "cell_type": "code",
   "execution_count": 42,
   "id": "be3b59a0",
   "metadata": {},
   "outputs": [
    {
     "data": {
      "text/plain": [
       "array([-50, -45, -40, -35, -30, -25, -20, -15, -10,  -5])"
      ]
     },
     "execution_count": 42,
     "metadata": {},
     "output_type": "execute_result"
    }
   ],
   "source": [
    "B"
   ]
  },
  {
   "cell_type": "code",
   "execution_count": 43,
   "id": "3f24c169",
   "metadata": {},
   "outputs": [],
   "source": [
    "# c)\n",
    "C = np.arange(50, 150, 2).reshape((5, 10))"
   ]
  },
  {
   "cell_type": "code",
   "execution_count": 44,
   "id": "d143ccd0",
   "metadata": {},
   "outputs": [
    {
     "data": {
      "text/plain": [
       "array([[ 50,  52,  54,  56,  58,  60,  62,  64,  66,  68],\n",
       "       [ 70,  72,  74,  76,  78,  80,  82,  84,  86,  88],\n",
       "       [ 90,  92,  94,  96,  98, 100, 102, 104, 106, 108],\n",
       "       [110, 112, 114, 116, 118, 120, 122, 124, 126, 128],\n",
       "       [130, 132, 134, 136, 138, 140, 142, 144, 146, 148]])"
      ]
     },
     "execution_count": 44,
     "metadata": {},
     "output_type": "execute_result"
    }
   ],
   "source": [
    "C"
   ]
  },
  {
   "cell_type": "code",
   "execution_count": 45,
   "id": "34a67ce4",
   "metadata": {},
   "outputs": [],
   "source": [
    "import numpy as np"
   ]
  },
  {
   "cell_type": "markdown",
   "id": "345a3102",
   "metadata": {},
   "source": [
    "- Exercício 7\n"
   ]
  },
  {
   "cell_type": "code",
   "execution_count": 64,
   "id": "5dc144b1",
   "metadata": {},
   "outputs": [],
   "source": [
    "#a)\n",
    "A = np.full(shape=(10),fill_value = 5,dtype = float) "
   ]
  },
  {
   "cell_type": "code",
   "execution_count": 65,
   "id": "b73a530d",
   "metadata": {},
   "outputs": [
    {
     "data": {
      "text/plain": [
       "array([5., 5., 5., 5., 5., 5., 5., 5., 5., 5.])"
      ]
     },
     "execution_count": 65,
     "metadata": {},
     "output_type": "execute_result"
    }
   ],
   "source": [
    "A"
   ]
  },
  {
   "cell_type": "code",
   "execution_count": 68,
   "id": "cf9cbb8a",
   "metadata": {},
   "outputs": [],
   "source": [
    "#b)\n",
    "B = np.full(shape = (4,4),fill_value = -5, dtype = float)"
   ]
  },
  {
   "cell_type": "code",
   "execution_count": 69,
   "id": "170a5424",
   "metadata": {},
   "outputs": [
    {
     "data": {
      "text/plain": [
       "array([[-5., -5., -5., -5.],\n",
       "       [-5., -5., -5., -5.],\n",
       "       [-5., -5., -5., -5.],\n",
       "       [-5., -5., -5., -5.]])"
      ]
     },
     "execution_count": 69,
     "metadata": {},
     "output_type": "execute_result"
    }
   ],
   "source": [
    "B"
   ]
  },
  {
   "cell_type": "code",
   "execution_count": 70,
   "id": "5d243f19",
   "metadata": {},
   "outputs": [],
   "source": [
    "#c)\n",
    "C = np.full(shape=(3, 3), fill_value=3, dtype=int)"
   ]
  },
  {
   "cell_type": "code",
   "execution_count": 71,
   "id": "26f9acdc",
   "metadata": {},
   "outputs": [
    {
     "data": {
      "text/plain": [
       "array([[3, 3, 3],\n",
       "       [3, 3, 3],\n",
       "       [3, 3, 3]])"
      ]
     },
     "execution_count": 71,
     "metadata": {},
     "output_type": "execute_result"
    }
   ],
   "source": [
    "C"
   ]
  },
  {
   "cell_type": "code",
   "execution_count": 72,
   "id": "24210976",
   "metadata": {},
   "outputs": [],
   "source": [
    "#d)\n",
    "D = np.full(shape=(10,10), fill_value=50, dtype=int)"
   ]
  },
  {
   "cell_type": "code",
   "execution_count": 73,
   "id": "56c74481",
   "metadata": {},
   "outputs": [
    {
     "data": {
      "text/plain": [
       "array([[50, 50, 50, 50, 50, 50, 50, 50, 50, 50],\n",
       "       [50, 50, 50, 50, 50, 50, 50, 50, 50, 50],\n",
       "       [50, 50, 50, 50, 50, 50, 50, 50, 50, 50],\n",
       "       [50, 50, 50, 50, 50, 50, 50, 50, 50, 50],\n",
       "       [50, 50, 50, 50, 50, 50, 50, 50, 50, 50],\n",
       "       [50, 50, 50, 50, 50, 50, 50, 50, 50, 50],\n",
       "       [50, 50, 50, 50, 50, 50, 50, 50, 50, 50],\n",
       "       [50, 50, 50, 50, 50, 50, 50, 50, 50, 50],\n",
       "       [50, 50, 50, 50, 50, 50, 50, 50, 50, 50],\n",
       "       [50, 50, 50, 50, 50, 50, 50, 50, 50, 50]])"
      ]
     },
     "execution_count": 73,
     "metadata": {},
     "output_type": "execute_result"
    }
   ],
   "source": [
    "D"
   ]
  },
  {
   "cell_type": "markdown",
   "id": "4212cbb9",
   "metadata": {},
   "source": [
    "- Exercício 8"
   ]
  },
  {
   "cell_type": "code",
   "execution_count": 46,
   "id": "88499544",
   "metadata": {},
   "outputs": [],
   "source": [
    "k = np.array([[np.nan, 1, 10, 0],\n",
    " [np.nan, np.nan, np.nan, np.nan],\n",
    " [100, 50, np.nan, -25],\n",
    " [30, np.nan, np.nan, 130]\n",
    " ])\n"
   ]
  },
  {
   "cell_type": "code",
   "execution_count": 47,
   "id": "e0a85127",
   "metadata": {},
   "outputs": [
    {
     "name": "stdout",
     "output_type": "stream",
     "text": [
      "[[ True False False False]\n",
      " [ True  True  True  True]\n",
      " [False False  True False]\n",
      " [False  True  True False]]\n",
      "Há 8 dados ausentes em K\n"
     ]
    }
   ],
   "source": [
    "print(np.isnan(k))\n",
    "print(f'Há {np.isnan(k).sum()} dados ausentes em K')\n"
   ]
  },
  {
   "cell_type": "markdown",
   "id": "5395a48b",
   "metadata": {},
   "source": [
    "- Exercício 9"
   ]
  },
  {
   "cell_type": "code",
   "execution_count": 48,
   "id": "2e20621d",
   "metadata": {},
   "outputs": [
    {
     "data": {
      "text/plain": [
       "array([ 1.,  6., 11., 16., 21.])"
      ]
     },
     "execution_count": 48,
     "metadata": {},
     "output_type": "execute_result"
    }
   ],
   "source": [
    "A = np.linspace(1, 21, 5)\n",
    "A"
   ]
  },
  {
   "cell_type": "markdown",
   "id": "594f1614",
   "metadata": {},
   "source": [
    "- Ecercício 10"
   ]
  },
  {
   "cell_type": "code",
   "execution_count": 49,
   "id": "4c4fc44b",
   "metadata": {},
   "outputs": [
    {
     "data": {
      "text/plain": [
       "array([[1.00000000e+01],\n",
       "       [3.59381366e+06],\n",
       "       [1.29154967e+12],\n",
       "       [4.64158883e+17],\n",
       "       [1.66810054e+23],\n",
       "       [5.99484250e+28],\n",
       "       [2.15443469e+34],\n",
       "       [7.74263683e+39],\n",
       "       [2.78255940e+45],\n",
       "       [1.00000000e+51]])"
      ]
     },
     "execution_count": 49,
     "metadata": {},
     "output_type": "execute_result"
    }
   ],
   "source": [
    "B = np.logspace(1, 51, 10).reshape(-1, 1)\n",
    "B\n"
   ]
  },
  {
   "cell_type": "markdown",
   "id": "fad79764",
   "metadata": {},
   "source": [
    "- Exercício 11"
   ]
  },
  {
   "cell_type": "code",
   "execution_count": 50,
   "id": "db571c98",
   "metadata": {},
   "outputs": [
    {
     "data": {
      "text/plain": [
       "array([[ 5,  0,  0,  0,  0,  0],\n",
       "       [ 0, 10,  0,  0,  0,  0],\n",
       "       [ 0,  0, 15,  0,  0,  0],\n",
       "       [ 0,  0,  0, 20,  0,  0],\n",
       "       [ 0,  0,  0,  0, 25,  0],\n",
       "       [ 0,  0,  0,  0,  0, 30]])"
      ]
     },
     "execution_count": 50,
     "metadata": {},
     "output_type": "execute_result"
    }
   ],
   "source": [
    "C = np.diag(range(5, 31, 5))\n",
    "\n",
    "C"
   ]
  },
  {
   "cell_type": "markdown",
   "id": "91a4ba97",
   "metadata": {},
   "source": [
    "- Exercício 12"
   ]
  },
  {
   "cell_type": "code",
   "execution_count": 51,
   "id": "99da4bf5",
   "metadata": {},
   "outputs": [
    {
     "data": {
      "text/plain": [
       "array([[1., 0., 0., 0., 0., 0., 0., 0., 0., 0.],\n",
       "       [0., 1., 0., 0., 0., 0., 0., 0., 0., 0.],\n",
       "       [0., 0., 1., 0., 0., 0., 0., 0., 0., 0.],\n",
       "       [0., 0., 0., 1., 0., 0., 0., 0., 0., 0.],\n",
       "       [0., 0., 0., 0., 1., 0., 0., 0., 0., 0.],\n",
       "       [0., 0., 0., 0., 0., 1., 0., 0., 0., 0.],\n",
       "       [0., 0., 0., 0., 0., 0., 1., 0., 0., 0.],\n",
       "       [0., 0., 0., 0., 0., 0., 0., 1., 0., 0.],\n",
       "       [0., 0., 0., 0., 0., 0., 0., 0., 1., 0.],\n",
       "       [0., 0., 0., 0., 0., 0., 0., 0., 0., 1.]])"
      ]
     },
     "execution_count": 51,
     "metadata": {},
     "output_type": "execute_result"
    }
   ],
   "source": [
    "D =np.eye(10)\n",
    "D"
   ]
  },
  {
   "cell_type": "markdown",
   "id": "282e6699",
   "metadata": {},
   "source": [
    "- Exercício 13"
   ]
  },
  {
   "cell_type": "code",
   "execution_count": 52,
   "id": "c48d3635",
   "metadata": {},
   "outputs": [
    {
     "name": "stdout",
     "output_type": "stream",
     "text": [
      "Soma dos elementos do array 1:  55\n",
      "Soma dos elementos do array 2:  255.0\n",
      "Soma dos elementos do array 3:  1275\n",
      "Soma dos elementos do array 4:  10056552148.564463\n",
      "Soma dos elementos do array 5:  105\n"
     ]
    }
   ],
   "source": [
    "array1 = np.arange(1, 11)\n",
    "array2 = np.linspace(1, 50 ,10)\n",
    "array3 = np.array(range(51))\n",
    "array4 = np.logspace(1, 10 ,5)\n",
    "array5 = np.diag(range(5, 31 , 5))\n",
    "arrays = [array1, array2, array3, array4, array5]\n",
    "for index, array in enumerate(arrays, start =1):\n",
    "    print(f'Soma dos elementos do array {index}: ', array.sum())\n"
   ]
  },
  {
   "cell_type": "markdown",
   "id": "f6660830",
   "metadata": {},
   "source": [
    "- Exercício 14"
   ]
  },
  {
   "cell_type": "code",
   "execution_count": 53,
   "id": "63c4cd35",
   "metadata": {},
   "outputs": [
    {
     "name": "stdout",
     "output_type": "stream",
     "text": [
      "Soma total dos elementos:  855\n",
      "Soma das linhas:  [199 199 191 149 117]\n",
      "Soma das colunas:  [283 281 291]\n"
     ]
    }
   ],
   "source": [
    "matriz = np.array(np.random.randint(1, 100 , 15)).reshape(5, 3)\n",
    "matriz\n",
    "print('Soma total dos elementos: ', matriz.sum())\n",
    "print('Soma das linhas: ', matriz.sum(axis = 1))\n",
    "print('Soma das colunas: ', matriz.sum(axis=0))"
   ]
  },
  {
   "cell_type": "code",
   "execution_count": 54,
   "id": "509dc36a",
   "metadata": {},
   "outputs": [
    {
     "data": {
      "text/plain": [
       "array([[63, 97, 39],\n",
       "       [42, 72, 85],\n",
       "       [68, 46, 77],\n",
       "       [81, 31, 37],\n",
       "       [29, 35, 53]])"
      ]
     },
     "execution_count": 54,
     "metadata": {},
     "output_type": "execute_result"
    }
   ],
   "source": [
    "matriz"
   ]
  },
  {
   "cell_type": "markdown",
   "id": "7805dc8e",
   "metadata": {},
   "source": [
    "- Exercício 15"
   ]
  },
  {
   "cell_type": "code",
   "execution_count": 55,
   "id": "4c392be8",
   "metadata": {},
   "outputs": [
    {
     "name": "stdout",
     "output_type": "stream",
     "text": [
      "Array 1\n",
      "Valor máximo:  27\n",
      "Valor mínimo:  -1\n",
      "\n",
      "Array 2\n",
      "Valor máximo:  291\n",
      "Valor mínimo:  -81\n",
      "\n",
      "Array 3\n",
      "Valor máximo:  1.8887655542310082\n",
      "Valor mínimo:  -1.3336069004673579\n",
      "\n",
      "Array 4\n",
      "Valor máximo:  50\n",
      "Valor mínimo:  12\n",
      "\n"
     ]
    }
   ],
   "source": [
    "array1 = np.array([-1, 10, 3, 4, 7, 27])\n",
    "array2 = np.random.randint(-100, 300, 30)\n",
    "array3 = np.random.randn(10)\n",
    "array4 = np.array(range(50, 10, -2))\n",
    "arrays = [array1, array2, array3, array4]\n",
    "for index, array in enumerate(arrays, start=1):\n",
    "    print(f'Array {index}')\n",
    "    print(f'Valor máximo: ', array.max())\n",
    "    print(f'Valor mínimo: ', array.min())\n",
    "    print()\n"
   ]
  },
  {
   "cell_type": "markdown",
   "id": "31069083",
   "metadata": {},
   "source": [
    "- Exercício 16"
   ]
  },
  {
   "cell_type": "code",
   "execution_count": 56,
   "id": "0a1f7701",
   "metadata": {},
   "outputs": [],
   "source": [
    "import numpy as np"
   ]
  },
  {
   "cell_type": "code",
   "execution_count": 57,
   "id": "3538d9ae",
   "metadata": {},
   "outputs": [
    {
     "name": "stdout",
     "output_type": "stream",
     "text": [
      "Valor máximo da matriz:  998\n",
      "Valor máximo por coluna:  [807 998 746 818 857]\n",
      "Valor máximo por linha:  [264 818 998 833 586 934 807 -73 546 487]\n",
      "Valor mínimo da matriz:  -998\n",
      "Valor mínimo por coluna:  [-714 -998 -952 -871 -951]\n",
      "Valor mínimo por linha:  [-723 -714 -777 -233 -952 -577 -782 -871 -998 -713]\n"
     ]
    }
   ],
   "source": [
    "def info_matrix(matrix):\n",
    "    if isinstance(matrix, np.ndarray) and matrix.ndim == 2:\n",
    "        print(f'Valor máximo da matriz: ', matrix.max())\n",
    "        print(f'Valor máximo por coluna: ', matrix.max(axis = 0))\n",
    "        print(f'Valor máximo por linha: ', matrix.max(axis = 1))\n",
    "        print(f'Valor mínimo da matriz: ', matrix.min())\n",
    "        print(f'Valor mínimo por coluna: ', matrix.min(axis = 0))\n",
    "        print(f'Valor mínimo por linha: ', matrix.min(axis = 1))\n",
    "    else:\n",
    "        return None\n",
    "    \n",
    "if __name__=='__main__':\n",
    "    matrix = np.random.randint(-1000, 1000, 50).reshape(10, 5)\n",
    "    info_matrix(matrix)\n",
    "            \n"
   ]
  },
  {
   "cell_type": "code",
   "execution_count": 58,
   "id": "93c3280f",
   "metadata": {},
   "outputs": [
    {
     "data": {
      "text/plain": [
       "array([[-344, -723,  264,   21, -315],\n",
       "       [-714,  655,  746,  818,  594],\n",
       "       [  22,  998,  546, -777,  857],\n",
       "       [-127,  833,  742, -233,  435],\n",
       "       [ 586,  395, -952, -336, -951],\n",
       "       [-409,  934, -577, -480,   -5],\n",
       "       [ 807, -514, -453, -346, -782],\n",
       "       [-642, -302, -157, -871,  -73],\n",
       "       [ 466, -998,  -65,  101,  546],\n",
       "       [-654,  225,  321, -713,  487]])"
      ]
     },
     "execution_count": 58,
     "metadata": {},
     "output_type": "execute_result"
    }
   ],
   "source": [
    "matrix"
   ]
  },
  {
   "cell_type": "code",
   "execution_count": 59,
   "id": "b945f7b5",
   "metadata": {},
   "outputs": [
    {
     "data": {
      "text/plain": [
       "array([[-344, -723,  264,   21, -315]])"
      ]
     },
     "execution_count": 59,
     "metadata": {},
     "output_type": "execute_result"
    }
   ],
   "source": [
    "matrix[0:5:5]"
   ]
  },
  {
   "cell_type": "markdown",
   "id": "6fa5f19d",
   "metadata": {},
   "source": [
    "- Exercício 17"
   ]
  },
  {
   "cell_type": "code",
   "execution_count": 75,
   "id": "1ae5a6a2",
   "metadata": {},
   "outputs": [
    {
     "name": "stdout",
     "output_type": "stream",
     "text": [
      "Média: 40.01598664060621\n",
      "Mediana: 40.001651938334874\n",
      "Desvio padrão: 0.4617377592436638\n",
      "Variância: 0.2132017583113596\n"
     ]
    }
   ],
   "source": [
    "arr = np.random.normal(40,0.5,size = (300))\n",
    "print(f'Média: {np.mean(arr)}')\n",
    "print(f'Mediana: {np.median(arr)}')\n",
    "print(f'Desvio padrão: {np.std(arr)}')\n",
    "print(f'Variância: {np.var(arr)}')"
   ]
  },
  {
   "cell_type": "markdown",
   "id": "b120a565",
   "metadata": {},
   "source": [
    "- Exercício 18"
   ]
  },
  {
   "cell_type": "code",
   "execution_count": 60,
   "id": "faaaaf12",
   "metadata": {},
   "outputs": [
    {
     "name": "stdout",
     "output_type": "stream",
     "text": [
      "Matriz de correlação: [[1.         0.11940728]\n",
      " [0.11940728 1.        ]]\n",
      "\n",
      "Matriz de covariância: [[0.0771584  0.00966296]\n",
      " [0.00966296 0.08487414]]\n"
     ]
    }
   ],
   "source": [
    "x = np.random.rand(100)\n",
    "y = np.random.uniform(size=100)\n",
    "print(f'Matriz de correlação: {np.corrcoef(x,y)}')\n",
    "print()\n",
    "print(f'Matriz de covariância: {np.cov(x,y)}')"
   ]
  },
  {
   "cell_type": "code",
   "execution_count": 61,
   "id": "0170126e",
   "metadata": {},
   "outputs": [
    {
     "data": {
      "text/plain": [
       "array([0.60534426, 0.27989007, 0.89013723, 0.06359168, 0.27104097,\n",
       "       0.99558386, 0.43898581, 0.27117286, 0.29848981, 0.93312087,\n",
       "       0.45741044, 0.09300074, 0.25629413, 0.60770175, 0.49689681,\n",
       "       0.30483765, 0.04347381, 0.24566255, 0.58240967, 0.55077085,\n",
       "       0.70334992, 0.26358531, 0.30756532, 0.17073742, 0.07448502,\n",
       "       0.79325653, 0.15379866, 0.56778484, 0.06240705, 0.15266578,\n",
       "       0.58456784, 0.39753327, 0.66263123, 0.24924272, 0.42275092,\n",
       "       0.14745287, 0.04145856, 0.15700982, 0.68152392, 0.08990392,\n",
       "       0.07427758, 0.24189145, 0.317221  , 0.04772303, 0.18241615,\n",
       "       0.51032555, 0.77054492, 0.10858266, 0.33895266, 0.2089006 ,\n",
       "       0.67247438, 0.82912742, 0.31133142, 0.13644994, 0.29405461,\n",
       "       0.84724303, 0.83747019, 0.91492958, 0.95210969, 0.31873089,\n",
       "       0.49929826, 0.22146876, 0.22776408, 0.17476768, 0.58423691,\n",
       "       0.87799047, 0.67557065, 0.46375702, 0.04433474, 0.52551986,\n",
       "       0.12563022, 0.50969324, 0.42528253, 0.77331558, 0.74437063,\n",
       "       0.42857522, 0.1893843 , 0.56635293, 0.62406674, 0.19205767,\n",
       "       0.11609794, 0.60158866, 0.01910472, 0.98967257, 0.5631353 ,\n",
       "       0.48415561, 0.79257283, 0.10246015, 0.43532473, 0.48908276,\n",
       "       0.28334269, 0.47048847, 0.26403661, 0.03085189, 0.70201676,\n",
       "       0.58100898, 0.73645198, 0.89763059, 0.88566842, 0.86627721])"
      ]
     },
     "execution_count": 61,
     "metadata": {},
     "output_type": "execute_result"
    }
   ],
   "source": [
    "x"
   ]
  },
  {
   "cell_type": "code",
   "execution_count": 62,
   "id": "89edc34d",
   "metadata": {},
   "outputs": [
    {
     "data": {
      "text/plain": [
       "array([0.39813875, 0.74099863, 0.68672486, 0.99779135, 0.50172445,\n",
       "       0.12092532, 0.62358839, 0.05093076, 0.36304299, 0.98525939,\n",
       "       0.29811157, 0.67907385, 0.36764172, 0.3827766 , 0.53052447,\n",
       "       0.15226371, 0.91466464, 0.66801843, 0.43105688, 0.71184166,\n",
       "       0.81870387, 0.07548968, 0.21028878, 0.00285341, 0.10245543,\n",
       "       0.90646108, 0.24940283, 0.285951  , 0.75774839, 0.79804117,\n",
       "       0.86803836, 0.09118421, 0.67098178, 0.20659233, 0.19010487,\n",
       "       0.75837111, 0.19528286, 0.33390336, 0.45423616, 0.01171406,\n",
       "       0.61087924, 0.60881887, 0.48227537, 0.1425011 , 0.60192487,\n",
       "       0.49265269, 0.13980179, 0.17100073, 0.84771456, 0.3163555 ,\n",
       "       0.43814305, 0.50909223, 0.86199455, 0.21811294, 0.929324  ,\n",
       "       0.66772063, 0.76945395, 0.52231237, 0.84799946, 0.68938795,\n",
       "       0.51297876, 0.33491   , 0.25636479, 0.87394219, 0.92338279,\n",
       "       0.82854429, 0.43404909, 0.92858029, 0.07600914, 0.1322905 ,\n",
       "       0.67561876, 0.31711808, 0.61880895, 0.99212188, 0.47267322,\n",
       "       0.36881229, 0.94668552, 0.05148438, 0.29294129, 0.70904338,\n",
       "       0.34829406, 0.49737522, 0.05001699, 0.4646241 , 0.0324927 ,\n",
       "       0.09743865, 0.50949889, 0.81472262, 0.3894835 , 0.53482328,\n",
       "       0.01235034, 0.103984  , 0.87252747, 0.76939048, 0.10404066,\n",
       "       0.60503661, 0.32800765, 0.69265143, 0.70266466, 0.05798091])"
      ]
     },
     "execution_count": 62,
     "metadata": {},
     "output_type": "execute_result"
    }
   ],
   "source": [
    "y"
   ]
  },
  {
   "cell_type": "markdown",
   "id": "6b853462",
   "metadata": {},
   "source": [
    "- Exercicio 19"
   ]
  },
  {
   "cell_type": "code",
   "execution_count": 77,
   "id": "8cb51f7f",
   "metadata": {},
   "outputs": [
    {
     "name": "stdout",
     "output_type": "stream",
     "text": [
      "Valor máximo do array A: 230\n",
      "Índice do valor máximo do array A: 9\n"
     ]
    }
   ],
   "source": [
    "A = np.array([[11, 15, 33, 105],\n",
    "             [1, 140, 45, 90],\n",
    "             [67, 230, 78, 99]]\n",
    "            )\n",
    "\n",
    "print(f'Valor máximo do array A: {A. max()}')\n",
    "print(f'Índice do valor máximo do array A: {A.argmax()}')"
   ]
  },
  {
   "cell_type": "markdown",
   "id": "41f59795",
   "metadata": {},
   "source": [
    "- Exercício 20"
   ]
  },
  {
   "cell_type": "code",
   "execution_count": 78,
   "id": "f1749f85",
   "metadata": {},
   "outputs": [
    {
     "name": "stdout",
     "output_type": "stream",
     "text": [
      "Valor mínimo do array B: 3\n",
      "Índice do valor mínimo do array B: 4\n"
     ]
    }
   ],
   "source": [
    "B = np.array([[73, 22, 20, 62, 3],\n",
    "              [68, 84, 27, 59, 93],\n",
    "              [48, 52 ,4, 55, 50],\n",
    "              [42, 23, 63, 667, 4],\n",
    "              [44, 30 ,41, 31, 29]]\n",
    "            )\n",
    "print(f'Valor mínimo do array B: {B.min()}')\n",
    "print(f'Índice do valor mínimo do array B: {B.argmin()}')"
   ]
  },
  {
   "cell_type": "markdown",
   "id": "00fec125",
   "metadata": {},
   "source": [
    "- Exercício 21"
   ]
  },
  {
   "cell_type": "code",
   "execution_count": 79,
   "id": "fd727f33",
   "metadata": {},
   "outputs": [
    {
     "name": "stdout",
     "output_type": "stream",
     "text": [
      "Valor máximo: 270\n",
      "Valor mínimo: -57\n",
      "Média: 117.6\n",
      "Mediana: 130.0\n",
      "Variância: 10967.439999999999\n",
      "Desvio padrão: 104.72554607162475\n"
     ]
    }
   ],
   "source": [
    "def info_array(array):\n",
    "        \n",
    "    if isinstance(array,np.ndarray):\n",
    "        print(f'Valor máximo: {np.max(array)}')\n",
    "        print(f'Valor mínimo: {np.min(array)}')\n",
    "        print(f'Média: {np.mean(array)}')\n",
    "        print(f'Mediana: {np.median(array)}')\n",
    "        print(f'Variância: {np.var(array)}')\n",
    "        print(f'Desvio padrão: {np.std(array)}')\n",
    "    else:\n",
    "        return None\n",
    "    \n",
    "if __name__ == '__main__':\n",
    "    array = np.array([-57, 101, 270, 130, 144])\n",
    "    info_array(array)"
   ]
  },
  {
   "cell_type": "markdown",
   "id": "8a8d37db",
   "metadata": {},
   "source": [
    "- Exercício 22"
   ]
  },
  {
   "cell_type": "code",
   "execution_count": 83,
   "id": "856a5eab",
   "metadata": {},
   "outputs": [],
   "source": [
    "A = np.array([\n",
    "        [1, 3, 3, 4, 5],\n",
    "        [4, 7, 11, 3, 5],\n",
    "        [1, 11, 4, 4, 11]\n",
    "])\n",
    "\n",
    "B = np.unique(A)\n"
   ]
  },
  {
   "cell_type": "code",
   "execution_count": 84,
   "id": "aae43489",
   "metadata": {},
   "outputs": [
    {
     "data": {
      "text/plain": [
       "array([ 1,  3,  4,  5,  7, 11])"
      ]
     },
     "execution_count": 84,
     "metadata": {},
     "output_type": "execute_result"
    }
   ],
   "source": [
    "B"
   ]
  },
  {
   "cell_type": "markdown",
   "id": "9bc2c034",
   "metadata": {},
   "source": [
    "- Exercício 23"
   ]
  },
  {
   "cell_type": "code",
   "execution_count": 1,
   "id": "a6c8391f",
   "metadata": {},
   "outputs": [],
   "source": [
    "import numpy as np"
   ]
  },
  {
   "cell_type": "code",
   "execution_count": 5,
   "id": "868c52bb",
   "metadata": {},
   "outputs": [
    {
     "name": "stdout",
     "output_type": "stream",
     "text": [
      "Array 1\n",
      "Primeiro elemento: 10\n",
      "Terceiro elemento: 30\n",
      "Último Elemento: 40\n",
      "Array 2\n",
      "Primeiro elemento: 100\n",
      "Terceiro elemento: 5\n",
      "Último Elemento: 170\n",
      "40\n",
      "40\n"
     ]
    }
   ],
   "source": [
    "array1 = np.array([10, 20, 30, 40])\n",
    "array2 = np.array([100, 30, 5, 1, 40, 100, 20, 130, 155, 170])\n",
    "arrays = [array1, array2]\n",
    "for index, array in enumerate(arrays, start=1):\n",
    "    print(f'Array {index}')\n",
    "    print(f'Primeiro elemento: {array[0]}')\n",
    "    print(f'Terceiro elemento: {array[2]}')\n",
    "    print(f'Último Elemento: {array[-1]}')\n",
    "    \n",
    "soma = array1[1]+ array2[6]\n",
    "soma1 = array1[-3] + array2[-4]\n",
    "print(soma)\n",
    "print(soma1)"
   ]
  },
  {
   "cell_type": "markdown",
   "id": "d24ed456",
   "metadata": {},
   "source": [
    "- Exercício 24"
   ]
  },
  {
   "cell_type": "code",
   "execution_count": 10,
   "id": "818e625b",
   "metadata": {},
   "outputs": [
    {
     "name": "stdout",
     "output_type": "stream",
     "text": [
      "[[-1 33 44  9  1]\n",
      " [11  1  0 90 44]]\n",
      "9\n",
      "90\n"
     ]
    }
   ],
   "source": [
    "ar = np.array([[-1, 33, 44, 9, 1],[11, 1 , 0, 90, 44]])\n",
    "print(ar)\n",
    "print(ar[0][3])\n",
    "print(ar[1][3])"
   ]
  },
  {
   "cell_type": "markdown",
   "id": "cac76452",
   "metadata": {},
   "source": [
    "- Exércícios= 25"
   ]
  },
  {
   "cell_type": "code",
   "execution_count": 26,
   "id": "8d1c84e8",
   "metadata": {},
   "outputs": [],
   "source": [
    "ar = np. array([\n",
    "    [[1, 1, 5, 1],\n",
    "     [1, 1, 1, 9]],\n",
    "    [[1, 3, 1, 1],\n",
    "     [1, 1, 21, 1]]\n",
    "                    ])"
   ]
  },
  {
   "cell_type": "code",
   "execution_count": 34,
   "id": "8cbc9991",
   "metadata": {},
   "outputs": [
    {
     "name": "stdout",
     "output_type": "stream",
     "text": [
      "5\n",
      "9\n",
      "9\n",
      "3\n",
      "21\n"
     ]
    }
   ],
   "source": [
    "print(ar[0][0][2])\n",
    "print(ar[0][1][3])\n",
    "print(ar[0][1][-1])\n",
    "print(ar[1][0][1])\n",
    "print(ar[1][1][2])\n"
   ]
  },
  {
   "cell_type": "markdown",
   "id": "ab2dd39a",
   "metadata": {},
   "source": [
    "- Exercícico 26"
   ]
  },
  {
   "cell_type": "code",
   "execution_count": 35,
   "id": "1ca8a6ca",
   "metadata": {},
   "outputs": [
    {
     "name": "stdout",
     "output_type": "stream",
     "text": [
      "[3 4 5 6 7]\n"
     ]
    }
   ],
   "source": [
    "ar = np.array([1, 2, 3, 4, 5, 6, 7, 8, 9 , 10])\n",
    "print(ar[2:7])\n"
   ]
  },
  {
   "cell_type": "markdown",
   "id": "4dfa121f",
   "metadata": {},
   "source": [
    "# Estudo Numpy Álgebra Linear"
   ]
  },
  {
   "cell_type": "markdown",
   "id": "47287bd1",
   "metadata": {},
   "source": [
    "- DataFrame - Exercício 1"
   ]
  },
  {
   "cell_type": "code",
   "execution_count": 2,
   "id": "806c994c",
   "metadata": {},
   "outputs": [],
   "source": [
    "import numpy as np"
   ]
  },
  {
   "cell_type": "code",
   "execution_count": 3,
   "id": "79c4122e",
   "metadata": {},
   "outputs": [],
   "source": [
    "a = np.array([[1, 2, 3], [2, 1, -1]])\n",
    "b = np.array([[1, -2, 0], [3, 0, 1], [4, 5, 6]])\n",
    "c = np.array(range(1,10)).reshape(3, 3)\n",
    "d = np.array([[1], [4], [-3]])"
   ]
  },
  {
   "cell_type": "code",
   "execution_count": 5,
   "id": "539eddcd",
   "metadata": {},
   "outputs": [
    {
     "name": "stdout",
     "output_type": "stream",
     "text": [
      "[[ 1  2  3]\n",
      " [ 2  1 -1]]\n",
      "[[ 1 -2  0]\n",
      " [ 3  0  1]\n",
      " [ 4  5  6]]\n",
      "[[1 2 3]\n",
      " [4 5 6]\n",
      " [7 8 9]]\n",
      "[[ 1]\n",
      " [ 4]\n",
      " [-3]]\n"
     ]
    }
   ],
   "source": [
    "print(a)\n",
    "print(b)\n",
    "print(c)\n",
    "print(d)\n"
   ]
  },
  {
   "cell_type": "markdown",
   "id": "879c8c34",
   "metadata": {},
   "source": [
    "- Definindo Matrizes - Exercício 2"
   ]
  },
  {
   "cell_type": "code",
   "execution_count": 9,
   "id": "977cffcf",
   "metadata": {},
   "outputs": [],
   "source": [
    "e = np.array([1, 2, 3, 4, 5, 6]).reshape(6, 1)"
   ]
  },
  {
   "cell_type": "code",
   "execution_count": 10,
   "id": "349a3559",
   "metadata": {},
   "outputs": [
    {
     "data": {
      "text/plain": [
       "array([[1],\n",
       "       [2],\n",
       "       [3],\n",
       "       [4],\n",
       "       [5],\n",
       "       [6]])"
      ]
     },
     "execution_count": 10,
     "metadata": {},
     "output_type": "execute_result"
    }
   ],
   "source": [
    "e"
   ]
  },
  {
   "cell_type": "code",
   "execution_count": 12,
   "id": "8cac0d66",
   "metadata": {},
   "outputs": [],
   "source": [
    "f = np.array([1, 0, 3, -10])"
   ]
  },
  {
   "cell_type": "code",
   "execution_count": 13,
   "id": "66114568",
   "metadata": {},
   "outputs": [
    {
     "data": {
      "text/plain": [
       "array([  1,   0,   3, -10])"
      ]
     },
     "execution_count": 13,
     "metadata": {},
     "output_type": "execute_result"
    }
   ],
   "source": [
    "f"
   ]
  },
  {
   "cell_type": "code",
   "execution_count": 14,
   "id": "39fd3e3e",
   "metadata": {},
   "outputs": [],
   "source": [
    "g = np.array(range(1, 6))"
   ]
  },
  {
   "cell_type": "code",
   "execution_count": 15,
   "id": "42bf7267",
   "metadata": {},
   "outputs": [
    {
     "data": {
      "text/plain": [
       "array([1, 2, 3, 4, 5])"
      ]
     },
     "execution_count": 15,
     "metadata": {},
     "output_type": "execute_result"
    }
   ],
   "source": [
    "g"
   ]
  },
  {
   "cell_type": "markdown",
   "id": "723e311f",
   "metadata": {},
   "source": [
    "- Definindo Matrizes - Exercício 3 "
   ]
  },
  {
   "cell_type": "code",
   "execution_count": 18,
   "id": "6a02f874",
   "metadata": {},
   "outputs": [],
   "source": [
    "A = np.zeros(shape=(2, 2))"
   ]
  },
  {
   "cell_type": "code",
   "execution_count": 19,
   "id": "0bc362eb",
   "metadata": {},
   "outputs": [
    {
     "data": {
      "text/plain": [
       "array([[0., 0.],\n",
       "       [0., 0.]])"
      ]
     },
     "execution_count": 19,
     "metadata": {},
     "output_type": "execute_result"
    }
   ],
   "source": [
    "A"
   ]
  },
  {
   "cell_type": "code",
   "execution_count": 22,
   "id": "b1b655d4",
   "metadata": {},
   "outputs": [],
   "source": [
    "B = np.zeros(shape=(3, 5))"
   ]
  },
  {
   "cell_type": "code",
   "execution_count": 23,
   "id": "04556c4d",
   "metadata": {},
   "outputs": [
    {
     "data": {
      "text/plain": [
       "array([[0., 0., 0., 0., 0.],\n",
       "       [0., 0., 0., 0., 0.],\n",
       "       [0., 0., 0., 0., 0.]])"
      ]
     },
     "execution_count": 23,
     "metadata": {},
     "output_type": "execute_result"
    }
   ],
   "source": [
    "B"
   ]
  },
  {
   "cell_type": "code",
   "execution_count": 25,
   "id": "3f17b188",
   "metadata": {},
   "outputs": [],
   "source": [
    "C = np.ones(shape=(5, 5))"
   ]
  },
  {
   "cell_type": "code",
   "execution_count": 26,
   "id": "fd4c0dbb",
   "metadata": {},
   "outputs": [
    {
     "data": {
      "text/plain": [
       "array([[1., 1., 1., 1., 1.],\n",
       "       [1., 1., 1., 1., 1.],\n",
       "       [1., 1., 1., 1., 1.],\n",
       "       [1., 1., 1., 1., 1.],\n",
       "       [1., 1., 1., 1., 1.]])"
      ]
     },
     "execution_count": 26,
     "metadata": {},
     "output_type": "execute_result"
    }
   ],
   "source": [
    "C"
   ]
  },
  {
   "cell_type": "code",
   "execution_count": 31,
   "id": "b80a17d2",
   "metadata": {},
   "outputs": [],
   "source": [
    "I2 = np.eye(2)"
   ]
  },
  {
   "cell_type": "code",
   "execution_count": 32,
   "id": "63d82cb9",
   "metadata": {},
   "outputs": [
    {
     "data": {
      "text/plain": [
       "array([[1., 0.],\n",
       "       [0., 1.]])"
      ]
     },
     "execution_count": 32,
     "metadata": {},
     "output_type": "execute_result"
    }
   ],
   "source": [
    "I2"
   ]
  },
  {
   "cell_type": "code",
   "execution_count": 33,
   "id": "4a0b6d7c",
   "metadata": {},
   "outputs": [],
   "source": [
    "I3 =np.eye(3)"
   ]
  },
  {
   "cell_type": "code",
   "execution_count": 34,
   "id": "28826c1a",
   "metadata": {},
   "outputs": [
    {
     "data": {
      "text/plain": [
       "array([[1., 0., 0.],\n",
       "       [0., 1., 0.],\n",
       "       [0., 0., 1.]])"
      ]
     },
     "execution_count": 34,
     "metadata": {},
     "output_type": "execute_result"
    }
   ],
   "source": [
    "I3"
   ]
  },
  {
   "cell_type": "code",
   "execution_count": 35,
   "id": "6fdebb78",
   "metadata": {},
   "outputs": [],
   "source": [
    "I6 = np. eye(6)"
   ]
  },
  {
   "cell_type": "code",
   "execution_count": 36,
   "id": "e9b5ce6e",
   "metadata": {},
   "outputs": [
    {
     "data": {
      "text/plain": [
       "array([[1., 0., 0., 0., 0., 0.],\n",
       "       [0., 1., 0., 0., 0., 0.],\n",
       "       [0., 0., 1., 0., 0., 0.],\n",
       "       [0., 0., 0., 1., 0., 0.],\n",
       "       [0., 0., 0., 0., 1., 0.],\n",
       "       [0., 0., 0., 0., 0., 1.]])"
      ]
     },
     "execution_count": 36,
     "metadata": {},
     "output_type": "execute_result"
    }
   ],
   "source": [
    "I6"
   ]
  },
  {
   "cell_type": "markdown",
   "id": "73a5e36f",
   "metadata": {},
   "source": [
    "- Definindo Matrizes - Exercício 4"
   ]
  },
  {
   "cell_type": "code",
   "execution_count": 38,
   "id": "abe1d927",
   "metadata": {},
   "outputs": [],
   "source": [
    "A = np.triu(np.arange(1, 10).reshape(3,3), k=0)"
   ]
  },
  {
   "cell_type": "code",
   "execution_count": 39,
   "id": "c1c45aad",
   "metadata": {},
   "outputs": [
    {
     "data": {
      "text/plain": [
       "array([[1, 2, 3],\n",
       "       [0, 5, 6],\n",
       "       [0, 0, 9]])"
      ]
     },
     "execution_count": 39,
     "metadata": {},
     "output_type": "execute_result"
    }
   ],
   "source": [
    "A"
   ]
  },
  {
   "cell_type": "code",
   "execution_count": 40,
   "id": "50d041e2",
   "metadata": {},
   "outputs": [],
   "source": [
    "B = np.tril(np.arange(1,10).reshape(3,3), k=0)"
   ]
  },
  {
   "cell_type": "code",
   "execution_count": 41,
   "id": "2f407489",
   "metadata": {},
   "outputs": [
    {
     "data": {
      "text/plain": [
       "array([[1, 0, 0],\n",
       "       [4, 5, 0],\n",
       "       [7, 8, 9]])"
      ]
     },
     "execution_count": 41,
     "metadata": {},
     "output_type": "execute_result"
    }
   ],
   "source": [
    "B"
   ]
  },
  {
   "cell_type": "code",
   "execution_count": 43,
   "id": "5fd13e5b",
   "metadata": {},
   "outputs": [],
   "source": [
    "C = np.triu(np.arange(100,125).reshape(5, 5))"
   ]
  },
  {
   "cell_type": "code",
   "execution_count": 44,
   "id": "eb2672e5",
   "metadata": {},
   "outputs": [
    {
     "data": {
      "text/plain": [
       "array([[100, 101, 102, 103, 104],\n",
       "       [  0, 106, 107, 108, 109],\n",
       "       [  0,   0, 112, 113, 114],\n",
       "       [  0,   0,   0, 118, 119],\n",
       "       [  0,   0,   0,   0, 124]])"
      ]
     },
     "execution_count": 44,
     "metadata": {},
     "output_type": "execute_result"
    }
   ],
   "source": [
    "C"
   ]
  },
  {
   "cell_type": "markdown",
   "id": "0fe7f898",
   "metadata": {},
   "source": [
    "- Exercício 5"
   ]
  },
  {
   "cell_type": "code",
   "execution_count": 47,
   "id": "8b4b1150",
   "metadata": {},
   "outputs": [],
   "source": [
    "A = np.diag([7, 1, -1])"
   ]
  },
  {
   "cell_type": "code",
   "execution_count": 48,
   "id": "a6a633b3",
   "metadata": {},
   "outputs": [
    {
     "data": {
      "text/plain": [
       "array([[ 7,  0,  0],\n",
       "       [ 0,  1,  0],\n",
       "       [ 0,  0, -1]])"
      ]
     },
     "execution_count": 48,
     "metadata": {},
     "output_type": "execute_result"
    }
   ],
   "source": [
    "A"
   ]
  },
  {
   "cell_type": "code",
   "execution_count": 49,
   "id": "25debe25",
   "metadata": {},
   "outputs": [],
   "source": [
    "B = np.diag([3]* 4)"
   ]
  },
  {
   "cell_type": "code",
   "execution_count": 50,
   "id": "58f22e48",
   "metadata": {},
   "outputs": [
    {
     "data": {
      "text/plain": [
       "array([[3, 0, 0, 0],\n",
       "       [0, 3, 0, 0],\n",
       "       [0, 0, 3, 0],\n",
       "       [0, 0, 0, 3]])"
      ]
     },
     "execution_count": 50,
     "metadata": {},
     "output_type": "execute_result"
    }
   ],
   "source": [
    "B"
   ]
  },
  {
   "cell_type": "code",
   "execution_count": 52,
   "id": "b3c726bc",
   "metadata": {},
   "outputs": [],
   "source": [
    "C = np.diag([range(-5, 0)])"
   ]
  },
  {
   "cell_type": "code",
   "execution_count": 54,
   "id": "90b54678",
   "metadata": {},
   "outputs": [
    {
     "data": {
      "text/plain": [
       "array([-5])"
      ]
     },
     "execution_count": 54,
     "metadata": {},
     "output_type": "execute_result"
    }
   ],
   "source": [
    "C\n"
   ]
  },
  {
   "cell_type": "markdown",
   "id": "53e0a566",
   "metadata": {},
   "source": [
    "Operações matriciai - Exercício 1"
   ]
  },
  {
   "cell_type": "code",
   "execution_count": 55,
   "id": "d58c55d5",
   "metadata": {},
   "outputs": [
    {
     "name": "stdout",
     "output_type": "stream",
     "text": [
      "[[11 36]\n",
      " [ 8  5]\n",
      " [-2 -6]]\n"
     ]
    }
   ],
   "source": [
    "A = np.array([[10, 11], [5, 1], [-2, 4]])\n",
    "B = np.array([[1, 25], [3, 4], [0, -10]])\n",
    "soma = A + B\n",
    "print(soma)"
   ]
  },
  {
   "cell_type": "markdown",
   "id": "e6c73501",
   "metadata": {},
   "source": [
    "- Exercício 2"
   ]
  },
  {
   "cell_type": "code",
   "execution_count": 70,
   "id": "950edf2f",
   "metadata": {},
   "outputs": [
    {
     "name": "stdout",
     "output_type": "stream",
     "text": [
      "[[ True  True]\n",
      " [ True  True]\n",
      " [ True  True]]\n",
      "[[ True  True]\n",
      " [ True  True]\n",
      " [ True  True]]\n",
      "[[ True  True]\n",
      " [ True  True]\n",
      " [ True  True]]\n"
     ]
    }
   ],
   "source": [
    "A = np.array([[10, 11], [5,1], [-2, 4]])\n",
    "B = np.array([[1, 25], [3, 4], [0, -10]])\n",
    "C = np.array([[7, 3], [6,1], [0, 0]])\n",
    "zero = np.zeros(shape=(3,2))\n",
    "print(A+B==B+A)\n",
    "print((A+(B+C))==((A+B)+C))\n",
    "print(A+zero==A)"
   ]
  },
  {
   "cell_type": "markdown",
   "id": "ecabd95c",
   "metadata": {},
   "source": [
    "- Exercício 3"
   ]
  },
  {
   "cell_type": "code",
   "execution_count": 56,
   "id": "e499c7ef",
   "metadata": {},
   "outputs": [],
   "source": [
    "A = np.array([[1, 2, 3], [1, 1, -1]])\n",
    "B = np.array([[-2, 0, 1], [3, 0, 1]])\n",
    "C = np.array([[-1], [2], [4]])\n",
    "D = np.array([[2, -1]])"
   ]
  },
  {
   "cell_type": "code",
   "execution_count": 57,
   "id": "1746338f",
   "metadata": {},
   "outputs": [
    {
     "name": "stdout",
     "output_type": "stream",
     "text": [
      "[[-1  2  4]\n",
      " [ 4  1  0]]\n"
     ]
    }
   ],
   "source": [
    "print(A+B)"
   ]
  },
  {
   "cell_type": "code",
   "execution_count": 58,
   "id": "9dadb64e",
   "metadata": {},
   "outputs": [
    {
     "name": "stdout",
     "output_type": "stream",
     "text": [
      "[[15]\n",
      " [-3]]\n"
     ]
    }
   ],
   "source": [
    "print(A.dot(C))"
   ]
  },
  {
   "cell_type": "code",
   "execution_count": 59,
   "id": "3bb7dbfa",
   "metadata": {},
   "outputs": [
    {
     "name": "stdout",
     "output_type": "stream",
     "text": [
      "[[ 5  4  3]\n",
      " [10 14 18]]\n"
     ]
    }
   ],
   "source": [
    "print(B.dot(c))"
   ]
  },
  {
   "cell_type": "code",
   "execution_count": 60,
   "id": "7f7c7845",
   "metadata": {},
   "outputs": [
    {
     "name": "stdout",
     "output_type": "stream",
     "text": [
      "[[-2  1]\n",
      " [ 4 -2]\n",
      " [ 8 -4]]\n"
     ]
    }
   ],
   "source": [
    "print(C.dot(D))"
   ]
  },
  {
   "cell_type": "code",
   "execution_count": 61,
   "id": "6f6220a8",
   "metadata": {},
   "outputs": [
    {
     "name": "stdout",
     "output_type": "stream",
     "text": [
      "[[1 3 7]]\n"
     ]
    }
   ],
   "source": [
    "print(D.dot(A))"
   ]
  },
  {
   "cell_type": "code",
   "execution_count": 62,
   "id": "a089f029",
   "metadata": {},
   "outputs": [
    {
     "name": "stdout",
     "output_type": "stream",
     "text": [
      "[[-7  0  1]]\n"
     ]
    }
   ],
   "source": [
    "print(D.dot(B))"
   ]
  },
  {
   "cell_type": "code",
   "execution_count": 63,
   "id": "d418a9e1",
   "metadata": {},
   "outputs": [
    {
     "name": "stdout",
     "output_type": "stream",
     "text": [
      "[[-2  1]]\n"
     ]
    }
   ],
   "source": [
    "print((-1)* D)"
   ]
  },
  {
   "cell_type": "code",
   "execution_count": 65,
   "id": "bdcadae3",
   "metadata": {},
   "outputs": [
    {
     "name": "stdout",
     "output_type": "stream",
     "text": [
      "[[-4  4  9]\n",
      " [11  2  1]]\n"
     ]
    }
   ],
   "source": [
    "print(2*A+3*B)"
   ]
  },
  {
   "cell_type": "markdown",
   "id": "3216b2b4",
   "metadata": {},
   "source": [
    "- Exercício 4"
   ]
  },
  {
   "cell_type": "code",
   "execution_count": 71,
   "id": "80343217",
   "metadata": {},
   "outputs": [
    {
     "name": "stdout",
     "output_type": "stream",
     "text": [
      "[[ True  True  True  True]\n",
      " [ True  True  True  True]\n",
      " [ True  True  True  True]]\n"
     ]
    }
   ],
   "source": [
    "A=np.array([[1,-3,2],[2,1,-3],[4,-3,-1]])\n",
    "B=np.array([[1,4,1,0],[2,1,1,1],[1,-2,1,2]])\n",
    "C=np.array([[2,1,-1,-2],[3,-2,-1,-1],[2,-5,-1,0]])\n",
    "print(A.dot(B)==A.dot(C))"
   ]
  },
  {
   "cell_type": "code",
   "execution_count": null,
   "id": "acc8e983",
   "metadata": {},
   "outputs": [],
   "source": []
  },
  {
   "cell_type": "code",
   "execution_count": null,
   "id": "be43aa4a",
   "metadata": {},
   "outputs": [],
   "source": []
  },
  {
   "cell_type": "code",
   "execution_count": null,
   "id": "c2f7442f",
   "metadata": {},
   "outputs": [],
   "source": []
  },
  {
   "cell_type": "markdown",
   "id": "2cb7db68",
   "metadata": {},
   "source": [
    "# Estudo complementar"
   ]
  },
  {
   "cell_type": "code",
   "execution_count": 2,
   "id": "d7c074e0",
   "metadata": {},
   "outputs": [],
   "source": [
    "import numpy as np"
   ]
  },
  {
   "cell_type": "code",
   "execution_count": 5,
   "id": "1d3dbdd3",
   "metadata": {},
   "outputs": [
    {
     "data": {
      "text/plain": [
       "(6,)"
      ]
     },
     "execution_count": 5,
     "metadata": {},
     "output_type": "execute_result"
    }
   ],
   "source": [
    "a = np.array([1, 2, 3, 4, 5, 6])\n",
    "a.shape\n",
    "\n"
   ]
  },
  {
   "cell_type": "code",
   "execution_count": 6,
   "id": "0b839b4f",
   "metadata": {},
   "outputs": [
    {
     "data": {
      "text/plain": [
       "(6, 1)"
      ]
     },
     "execution_count": 6,
     "metadata": {},
     "output_type": "execute_result"
    }
   ],
   "source": [
    "b = np.expand_dims(a, axis=1)\n",
    "b.shape"
   ]
  },
  {
   "cell_type": "code",
   "execution_count": 7,
   "id": "f509e4c3",
   "metadata": {},
   "outputs": [
    {
     "data": {
      "text/plain": [
       "(1, 6)"
      ]
     },
     "execution_count": 7,
     "metadata": {},
     "output_type": "execute_result"
    }
   ],
   "source": [
    "c = np.expand_dims(a, axis=0)\n",
    "c.shape"
   ]
  },
  {
   "cell_type": "code",
   "execution_count": 8,
   "id": "c470c125",
   "metadata": {},
   "outputs": [
    {
     "data": {
      "text/plain": [
       "2"
      ]
     },
     "execution_count": 8,
     "metadata": {},
     "output_type": "execute_result"
    }
   ],
   "source": [
    "data = np.array([1, 2, 3])\n",
    "data[1]"
   ]
  },
  {
   "cell_type": "code",
   "execution_count": 9,
   "id": "2ee4f3db",
   "metadata": {},
   "outputs": [
    {
     "data": {
      "text/plain": [
       "array([1, 2])"
      ]
     },
     "execution_count": 9,
     "metadata": {},
     "output_type": "execute_result"
    }
   ],
   "source": [
    "data[0:2]"
   ]
  },
  {
   "cell_type": "code",
   "execution_count": 10,
   "id": "59404c51",
   "metadata": {},
   "outputs": [
    {
     "data": {
      "text/plain": [
       "array([2, 3])"
      ]
     },
     "execution_count": 10,
     "metadata": {},
     "output_type": "execute_result"
    }
   ],
   "source": [
    "data[1:]"
   ]
  },
  {
   "cell_type": "code",
   "execution_count": 11,
   "id": "55cd4b7f",
   "metadata": {},
   "outputs": [
    {
     "data": {
      "text/plain": [
       "array([2, 3])"
      ]
     },
     "execution_count": 11,
     "metadata": {},
     "output_type": "execute_result"
    }
   ],
   "source": [
    "data[-2:]"
   ]
  },
  {
   "cell_type": "code",
   "execution_count": 17,
   "id": "87c33586",
   "metadata": {},
   "outputs": [
    {
     "name": "stdout",
     "output_type": "stream",
     "text": [
      "[1 2 3 4]\n",
      "[ 8  9 10 11 12]\n"
     ]
    }
   ],
   "source": [
    "y = np.array([[1, 2, 3, 4], [5, 6, 7, 8], [9, 10, 11, 12]])\n",
    "print(y[y < 5])\n",
    "print(y[ y > 7])\n"
   ]
  },
  {
   "cell_type": "code",
   "execution_count": 21,
   "id": "1f6d7649",
   "metadata": {},
   "outputs": [
    {
     "name": "stdout",
     "output_type": "stream",
     "text": [
      "[ 5  6  7  8  9 10 11 12]\n"
     ]
    }
   ],
   "source": [
    "w = (y >= 5)\n",
    "print(y[w])"
   ]
  },
  {
   "cell_type": "code",
   "execution_count": 22,
   "id": "606e6bc2",
   "metadata": {},
   "outputs": [
    {
     "name": "stdout",
     "output_type": "stream",
     "text": [
      "[ 2  4  6  8 10 12]\n"
     ]
    }
   ],
   "source": [
    "divisivel_2 = y[y%2==0]\n",
    "print(divisivel_2)"
   ]
  },
  {
   "cell_type": "code",
   "execution_count": 23,
   "id": "0a6a36f5",
   "metadata": {},
   "outputs": [
    {
     "name": "stdout",
     "output_type": "stream",
     "text": [
      "[ 3  4  5  6  7  8  9 10]\n"
     ]
    }
   ],
   "source": [
    "k = y[(y > 2) & (y < 11)]\n",
    "print(k)"
   ]
  },
  {
   "cell_type": "code",
   "execution_count": null,
   "id": "a1c140e4",
   "metadata": {},
   "outputs": [],
   "source": []
  }
 ],
 "metadata": {
  "kernelspec": {
   "display_name": "Python 3 (ipykernel)",
   "language": "python",
   "name": "python3"
  },
  "language_info": {
   "codemirror_mode": {
    "name": "ipython",
    "version": 3
   },
   "file_extension": ".py",
   "mimetype": "text/x-python",
   "name": "python",
   "nbconvert_exporter": "python",
   "pygments_lexer": "ipython3",
   "version": "3.9.12"
  },
  "vscode": {
   "interpreter": {
    "hash": "8625a912581caad8d2f5c751bfe9fc2f2863ef19c34b4cfe64ba09a57ac03960"
   }
  }
 },
 "nbformat": 4,
 "nbformat_minor": 5
}
