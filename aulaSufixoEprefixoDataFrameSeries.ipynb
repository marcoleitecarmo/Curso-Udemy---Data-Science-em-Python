{
 "cells": [
  {
   "cell_type": "markdown",
   "metadata": {},
   "source": [
    "# Sufixo e prefixo em DataFrame e Series\n"
   ]
  },
  {
   "cell_type": "markdown",
   "metadata": {},
   "source": [
    "### **DaFrame**\n"
   ]
  },
  {
   "cell_type": "markdown",
   "metadata": {},
   "source": [
    "- Para DataFrame, os rótulos(labels) das colunas são prefixados."
   ]
  },
  {
   "cell_type": "code",
   "execution_count": 1,
   "metadata": {},
   "outputs": [],
   "source": [
    "import pandas as pd\n",
    "import numpy as np"
   ]
  },
  {
   "cell_type": "code",
   "execution_count": 2,
   "metadata": {},
   "outputs": [],
   "source": [
    "df = pd.DataFrame(np.random.normal(1, 0.5, 50). reshape(10, 5),\n",
    "                  columns=list('ABCDE'))\n"
   ]
  },
  {
   "cell_type": "code",
   "execution_count": 3,
   "metadata": {},
   "outputs": [
    {
     "data": {
      "text/html": [
       "<div>\n",
       "<style scoped>\n",
       "    .dataframe tbody tr th:only-of-type {\n",
       "        vertical-align: middle;\n",
       "    }\n",
       "\n",
       "    .dataframe tbody tr th {\n",
       "        vertical-align: top;\n",
       "    }\n",
       "\n",
       "    .dataframe thead th {\n",
       "        text-align: right;\n",
       "    }\n",
       "</style>\n",
       "<table border=\"1\" class=\"dataframe\">\n",
       "  <thead>\n",
       "    <tr style=\"text-align: right;\">\n",
       "      <th></th>\n",
       "      <th>A</th>\n",
       "      <th>B</th>\n",
       "      <th>C</th>\n",
       "      <th>D</th>\n",
       "      <th>E</th>\n",
       "    </tr>\n",
       "  </thead>\n",
       "  <tbody>\n",
       "    <tr>\n",
       "      <th>0</th>\n",
       "      <td>1.139204</td>\n",
       "      <td>0.126330</td>\n",
       "      <td>0.566807</td>\n",
       "      <td>2.283061</td>\n",
       "      <td>1.105774</td>\n",
       "    </tr>\n",
       "    <tr>\n",
       "      <th>1</th>\n",
       "      <td>0.430363</td>\n",
       "      <td>1.342121</td>\n",
       "      <td>1.465658</td>\n",
       "      <td>1.307870</td>\n",
       "      <td>1.148934</td>\n",
       "    </tr>\n",
       "    <tr>\n",
       "      <th>2</th>\n",
       "      <td>0.476705</td>\n",
       "      <td>1.506474</td>\n",
       "      <td>1.800736</td>\n",
       "      <td>1.651770</td>\n",
       "      <td>1.248031</td>\n",
       "    </tr>\n",
       "    <tr>\n",
       "      <th>3</th>\n",
       "      <td>1.191550</td>\n",
       "      <td>0.987705</td>\n",
       "      <td>0.514258</td>\n",
       "      <td>1.305851</td>\n",
       "      <td>0.558647</td>\n",
       "    </tr>\n",
       "    <tr>\n",
       "      <th>4</th>\n",
       "      <td>0.566136</td>\n",
       "      <td>0.902945</td>\n",
       "      <td>0.941417</td>\n",
       "      <td>0.892334</td>\n",
       "      <td>1.218666</td>\n",
       "    </tr>\n",
       "    <tr>\n",
       "      <th>5</th>\n",
       "      <td>0.497940</td>\n",
       "      <td>0.651243</td>\n",
       "      <td>0.887184</td>\n",
       "      <td>0.175693</td>\n",
       "      <td>0.979278</td>\n",
       "    </tr>\n",
       "    <tr>\n",
       "      <th>6</th>\n",
       "      <td>0.435509</td>\n",
       "      <td>0.437500</td>\n",
       "      <td>0.885382</td>\n",
       "      <td>0.947628</td>\n",
       "      <td>1.341607</td>\n",
       "    </tr>\n",
       "    <tr>\n",
       "      <th>7</th>\n",
       "      <td>0.837433</td>\n",
       "      <td>1.502998</td>\n",
       "      <td>0.394789</td>\n",
       "      <td>0.266878</td>\n",
       "      <td>0.636896</td>\n",
       "    </tr>\n",
       "    <tr>\n",
       "      <th>8</th>\n",
       "      <td>1.527747</td>\n",
       "      <td>2.052222</td>\n",
       "      <td>0.929024</td>\n",
       "      <td>0.416443</td>\n",
       "      <td>1.225134</td>\n",
       "    </tr>\n",
       "    <tr>\n",
       "      <th>9</th>\n",
       "      <td>0.952123</td>\n",
       "      <td>0.923999</td>\n",
       "      <td>1.191205</td>\n",
       "      <td>0.189074</td>\n",
       "      <td>0.578727</td>\n",
       "    </tr>\n",
       "  </tbody>\n",
       "</table>\n",
       "</div>"
      ],
      "text/plain": [
       "          A         B         C         D         E\n",
       "0  1.139204  0.126330  0.566807  2.283061  1.105774\n",
       "1  0.430363  1.342121  1.465658  1.307870  1.148934\n",
       "2  0.476705  1.506474  1.800736  1.651770  1.248031\n",
       "3  1.191550  0.987705  0.514258  1.305851  0.558647\n",
       "4  0.566136  0.902945  0.941417  0.892334  1.218666\n",
       "5  0.497940  0.651243  0.887184  0.175693  0.979278\n",
       "6  0.435509  0.437500  0.885382  0.947628  1.341607\n",
       "7  0.837433  1.502998  0.394789  0.266878  0.636896\n",
       "8  1.527747  2.052222  0.929024  0.416443  1.225134\n",
       "9  0.952123  0.923999  1.191205  0.189074  0.578727"
      ]
     },
     "execution_count": 3,
     "metadata": {},
     "output_type": "execute_result"
    }
   ],
   "source": [
    "df"
   ]
  },
  {
   "cell_type": "code",
   "execution_count": 5,
   "metadata": {},
   "outputs": [
    {
     "data": {
      "text/html": [
       "<div>\n",
       "<style scoped>\n",
       "    .dataframe tbody tr th:only-of-type {\n",
       "        vertical-align: middle;\n",
       "    }\n",
       "\n",
       "    .dataframe tbody tr th {\n",
       "        vertical-align: top;\n",
       "    }\n",
       "\n",
       "    .dataframe thead th {\n",
       "        text-align: right;\n",
       "    }\n",
       "</style>\n",
       "<table border=\"1\" class=\"dataframe\">\n",
       "  <thead>\n",
       "    <tr style=\"text-align: right;\">\n",
       "      <th></th>\n",
       "      <th>coluna A</th>\n",
       "      <th>coluna B</th>\n",
       "      <th>coluna C</th>\n",
       "      <th>coluna D</th>\n",
       "      <th>coluna E</th>\n",
       "    </tr>\n",
       "  </thead>\n",
       "  <tbody>\n",
       "    <tr>\n",
       "      <th>0</th>\n",
       "      <td>1.139204</td>\n",
       "      <td>0.126330</td>\n",
       "      <td>0.566807</td>\n",
       "      <td>2.283061</td>\n",
       "      <td>1.105774</td>\n",
       "    </tr>\n",
       "    <tr>\n",
       "      <th>1</th>\n",
       "      <td>0.430363</td>\n",
       "      <td>1.342121</td>\n",
       "      <td>1.465658</td>\n",
       "      <td>1.307870</td>\n",
       "      <td>1.148934</td>\n",
       "    </tr>\n",
       "    <tr>\n",
       "      <th>2</th>\n",
       "      <td>0.476705</td>\n",
       "      <td>1.506474</td>\n",
       "      <td>1.800736</td>\n",
       "      <td>1.651770</td>\n",
       "      <td>1.248031</td>\n",
       "    </tr>\n",
       "    <tr>\n",
       "      <th>3</th>\n",
       "      <td>1.191550</td>\n",
       "      <td>0.987705</td>\n",
       "      <td>0.514258</td>\n",
       "      <td>1.305851</td>\n",
       "      <td>0.558647</td>\n",
       "    </tr>\n",
       "    <tr>\n",
       "      <th>4</th>\n",
       "      <td>0.566136</td>\n",
       "      <td>0.902945</td>\n",
       "      <td>0.941417</td>\n",
       "      <td>0.892334</td>\n",
       "      <td>1.218666</td>\n",
       "    </tr>\n",
       "    <tr>\n",
       "      <th>5</th>\n",
       "      <td>0.497940</td>\n",
       "      <td>0.651243</td>\n",
       "      <td>0.887184</td>\n",
       "      <td>0.175693</td>\n",
       "      <td>0.979278</td>\n",
       "    </tr>\n",
       "    <tr>\n",
       "      <th>6</th>\n",
       "      <td>0.435509</td>\n",
       "      <td>0.437500</td>\n",
       "      <td>0.885382</td>\n",
       "      <td>0.947628</td>\n",
       "      <td>1.341607</td>\n",
       "    </tr>\n",
       "    <tr>\n",
       "      <th>7</th>\n",
       "      <td>0.837433</td>\n",
       "      <td>1.502998</td>\n",
       "      <td>0.394789</td>\n",
       "      <td>0.266878</td>\n",
       "      <td>0.636896</td>\n",
       "    </tr>\n",
       "    <tr>\n",
       "      <th>8</th>\n",
       "      <td>1.527747</td>\n",
       "      <td>2.052222</td>\n",
       "      <td>0.929024</td>\n",
       "      <td>0.416443</td>\n",
       "      <td>1.225134</td>\n",
       "    </tr>\n",
       "    <tr>\n",
       "      <th>9</th>\n",
       "      <td>0.952123</td>\n",
       "      <td>0.923999</td>\n",
       "      <td>1.191205</td>\n",
       "      <td>0.189074</td>\n",
       "      <td>0.578727</td>\n",
       "    </tr>\n",
       "  </tbody>\n",
       "</table>\n",
       "</div>"
      ],
      "text/plain": [
       "   coluna A  coluna B  coluna C  coluna D  coluna E\n",
       "0  1.139204  0.126330  0.566807  2.283061  1.105774\n",
       "1  0.430363  1.342121  1.465658  1.307870  1.148934\n",
       "2  0.476705  1.506474  1.800736  1.651770  1.248031\n",
       "3  1.191550  0.987705  0.514258  1.305851  0.558647\n",
       "4  0.566136  0.902945  0.941417  0.892334  1.218666\n",
       "5  0.497940  0.651243  0.887184  0.175693  0.979278\n",
       "6  0.435509  0.437500  0.885382  0.947628  1.341607\n",
       "7  0.837433  1.502998  0.394789  0.266878  0.636896\n",
       "8  1.527747  2.052222  0.929024  0.416443  1.225134\n",
       "9  0.952123  0.923999  1.191205  0.189074  0.578727"
      ]
     },
     "execution_count": 5,
     "metadata": {},
     "output_type": "execute_result"
    }
   ],
   "source": [
    "df.add_prefix(prefix= 'coluna ')"
   ]
  },
  {
   "cell_type": "code",
   "execution_count": 7,
   "metadata": {},
   "outputs": [
    {
     "data": {
      "text/html": [
       "<div>\n",
       "<style scoped>\n",
       "    .dataframe tbody tr th:only-of-type {\n",
       "        vertical-align: middle;\n",
       "    }\n",
       "\n",
       "    .dataframe tbody tr th {\n",
       "        vertical-align: top;\n",
       "    }\n",
       "\n",
       "    .dataframe thead th {\n",
       "        text-align: right;\n",
       "    }\n",
       "</style>\n",
       "<table border=\"1\" class=\"dataframe\">\n",
       "  <thead>\n",
       "    <tr style=\"text-align: right;\">\n",
       "      <th></th>\n",
       "      <th>A coluna</th>\n",
       "      <th>B coluna</th>\n",
       "      <th>C coluna</th>\n",
       "      <th>D coluna</th>\n",
       "      <th>E coluna</th>\n",
       "    </tr>\n",
       "  </thead>\n",
       "  <tbody>\n",
       "    <tr>\n",
       "      <th>0</th>\n",
       "      <td>1.139204</td>\n",
       "      <td>0.126330</td>\n",
       "      <td>0.566807</td>\n",
       "      <td>2.283061</td>\n",
       "      <td>1.105774</td>\n",
       "    </tr>\n",
       "    <tr>\n",
       "      <th>1</th>\n",
       "      <td>0.430363</td>\n",
       "      <td>1.342121</td>\n",
       "      <td>1.465658</td>\n",
       "      <td>1.307870</td>\n",
       "      <td>1.148934</td>\n",
       "    </tr>\n",
       "    <tr>\n",
       "      <th>2</th>\n",
       "      <td>0.476705</td>\n",
       "      <td>1.506474</td>\n",
       "      <td>1.800736</td>\n",
       "      <td>1.651770</td>\n",
       "      <td>1.248031</td>\n",
       "    </tr>\n",
       "    <tr>\n",
       "      <th>3</th>\n",
       "      <td>1.191550</td>\n",
       "      <td>0.987705</td>\n",
       "      <td>0.514258</td>\n",
       "      <td>1.305851</td>\n",
       "      <td>0.558647</td>\n",
       "    </tr>\n",
       "    <tr>\n",
       "      <th>4</th>\n",
       "      <td>0.566136</td>\n",
       "      <td>0.902945</td>\n",
       "      <td>0.941417</td>\n",
       "      <td>0.892334</td>\n",
       "      <td>1.218666</td>\n",
       "    </tr>\n",
       "    <tr>\n",
       "      <th>5</th>\n",
       "      <td>0.497940</td>\n",
       "      <td>0.651243</td>\n",
       "      <td>0.887184</td>\n",
       "      <td>0.175693</td>\n",
       "      <td>0.979278</td>\n",
       "    </tr>\n",
       "    <tr>\n",
       "      <th>6</th>\n",
       "      <td>0.435509</td>\n",
       "      <td>0.437500</td>\n",
       "      <td>0.885382</td>\n",
       "      <td>0.947628</td>\n",
       "      <td>1.341607</td>\n",
       "    </tr>\n",
       "    <tr>\n",
       "      <th>7</th>\n",
       "      <td>0.837433</td>\n",
       "      <td>1.502998</td>\n",
       "      <td>0.394789</td>\n",
       "      <td>0.266878</td>\n",
       "      <td>0.636896</td>\n",
       "    </tr>\n",
       "    <tr>\n",
       "      <th>8</th>\n",
       "      <td>1.527747</td>\n",
       "      <td>2.052222</td>\n",
       "      <td>0.929024</td>\n",
       "      <td>0.416443</td>\n",
       "      <td>1.225134</td>\n",
       "    </tr>\n",
       "    <tr>\n",
       "      <th>9</th>\n",
       "      <td>0.952123</td>\n",
       "      <td>0.923999</td>\n",
       "      <td>1.191205</td>\n",
       "      <td>0.189074</td>\n",
       "      <td>0.578727</td>\n",
       "    </tr>\n",
       "  </tbody>\n",
       "</table>\n",
       "</div>"
      ],
      "text/plain": [
       "   A coluna  B coluna  C coluna  D coluna  E coluna\n",
       "0  1.139204  0.126330  0.566807  2.283061  1.105774\n",
       "1  0.430363  1.342121  1.465658  1.307870  1.148934\n",
       "2  0.476705  1.506474  1.800736  1.651770  1.248031\n",
       "3  1.191550  0.987705  0.514258  1.305851  0.558647\n",
       "4  0.566136  0.902945  0.941417  0.892334  1.218666\n",
       "5  0.497940  0.651243  0.887184  0.175693  0.979278\n",
       "6  0.435509  0.437500  0.885382  0.947628  1.341607\n",
       "7  0.837433  1.502998  0.394789  0.266878  0.636896\n",
       "8  1.527747  2.052222  0.929024  0.416443  1.225134\n",
       "9  0.952123  0.923999  1.191205  0.189074  0.578727"
      ]
     },
     "execution_count": 7,
     "metadata": {},
     "output_type": "execute_result"
    }
   ],
   "source": [
    "df.add_suffix(suffix= ' coluna')"
   ]
  },
  {
   "cell_type": "markdown",
   "metadata": {},
   "source": [
    "Series"
   ]
  },
  {
   "cell_type": "markdown",
   "metadata": {},
   "source": [
    "- Para Series, os rótoulos de linhas são prefixados"
   ]
  },
  {
   "cell_type": "code",
   "execution_count": 8,
   "metadata": {},
   "outputs": [],
   "source": [
    "series = pd.Series([1,2,3], ['2020', '2021', '2022'])"
   ]
  },
  {
   "cell_type": "code",
   "execution_count": 10,
   "metadata": {},
   "outputs": [
    {
     "data": {
      "text/plain": [
       "2020    1\n",
       "2021    2\n",
       "2022    3\n",
       "dtype: int64"
      ]
     },
     "execution_count": 10,
     "metadata": {},
     "output_type": "execute_result"
    }
   ],
   "source": [
    "series"
   ]
  },
  {
   "cell_type": "code",
   "execution_count": 12,
   "metadata": {},
   "outputs": [
    {
     "data": {
      "text/plain": [
       "Ano 2020    1\n",
       "Ano 2021    2\n",
       "Ano 2022    3\n",
       "dtype: int64"
      ]
     },
     "execution_count": 12,
     "metadata": {},
     "output_type": "execute_result"
    }
   ],
   "source": [
    "series.add_prefix(prefix= 'Ano ')"
   ]
  },
  {
   "cell_type": "code",
   "execution_count": 13,
   "metadata": {},
   "outputs": [],
   "source": [
    "serie = pd.Series([10, 11, 12], [2020, 2021, 2022])"
   ]
  },
  {
   "cell_type": "code",
   "execution_count": 14,
   "metadata": {},
   "outputs": [
    {
     "data": {
      "text/plain": [
       "2020    1\n",
       "2021    2\n",
       "2022    3\n",
       "dtype: int64"
      ]
     },
     "execution_count": 14,
     "metadata": {},
     "output_type": "execute_result"
    }
   ],
   "source": [
    "series"
   ]
  },
  {
   "cell_type": "code",
   "execution_count": 16,
   "metadata": {},
   "outputs": [
    {
     "data": {
      "text/plain": [
       "2020_Ano    10\n",
       "2021_Ano    11\n",
       "2022_Ano    12\n",
       "dtype: int64"
      ]
     },
     "execution_count": 16,
     "metadata": {},
     "output_type": "execute_result"
    }
   ],
   "source": [
    "serie.add_suffix(suffix='_Ano')"
   ]
  }
 ],
 "metadata": {
  "kernelspec": {
   "display_name": "Python 3.10.5 ('env': venv)",
   "language": "python",
   "name": "python3"
  },
  "language_info": {
   "codemirror_mode": {
    "name": "ipython",
    "version": 3
   },
   "file_extension": ".py",
   "mimetype": "text/x-python",
   "name": "python",
   "nbconvert_exporter": "python",
   "pygments_lexer": "ipython3",
   "version": "3.10.5"
  },
  "orig_nbformat": 4,
  "vscode": {
   "interpreter": {
    "hash": "a40dec2babbf70443968bb73f32d6080f7447f540b5e9d3e21883a6280666562"
   }
  }
 },
 "nbformat": 4,
 "nbformat_minor": 2
}
